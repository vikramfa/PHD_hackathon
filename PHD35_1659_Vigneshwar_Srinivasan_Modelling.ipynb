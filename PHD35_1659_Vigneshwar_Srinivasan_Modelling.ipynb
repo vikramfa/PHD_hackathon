{
 "cells": [
  {
   "cell_type": "code",
   "execution_count": 2,
   "metadata": {
    "collapsed": true
   },
   "outputs": [],
   "source": [
    "import numpy as np \n",
    "import pandas as pd "
   ]
  },
  {
   "cell_type": "code",
   "execution_count": 21,
   "metadata": {},
   "outputs": [],
   "source": [
    "train=pd.read_csv(\"Train.csv\")\n",
    "test=pd.read_csv(\"Test.csv\")"
   ]
  },
  {
   "cell_type": "code",
   "execution_count": 20,
   "metadata": {
    "scrolled": true
   },
   "outputs": [
    {
     "data": {
      "text/html": [
       "<div>\n",
       "<style>\n",
       "    .dataframe thead tr:only-child th {\n",
       "        text-align: right;\n",
       "    }\n",
       "\n",
       "    .dataframe thead th {\n",
       "        text-align: left;\n",
       "    }\n",
       "\n",
       "    .dataframe tbody tr th {\n",
       "        vertical-align: top;\n",
       "    }\n",
       "</style>\n",
       "<table border=\"1\" class=\"dataframe\">\n",
       "  <thead>\n",
       "    <tr style=\"text-align: right;\">\n",
       "      <th></th>\n",
       "      <th>Collision Reference No.</th>\n",
       "      <th>Policing Area</th>\n",
       "      <th>Collision Severity</th>\n",
       "      <th>Weekday of Collision</th>\n",
       "      <th>Day of Collision</th>\n",
       "      <th>Month of Collision</th>\n",
       "      <th>Hour of Collision (24 hour)</th>\n",
       "      <th>Carriageway Type</th>\n",
       "      <th>Speed Limit</th>\n",
       "      <th>Junction Detail</th>\n",
       "      <th>Junction Control</th>\n",
       "      <th>Pedestrian Crossing – Human Control</th>\n",
       "      <th>Pedestrian Crossing – Physical Control</th>\n",
       "      <th>Light Conditions</th>\n",
       "      <th>Weather Conditions</th>\n",
       "      <th>Road Surface Conditions</th>\n",
       "      <th>Special Conditions at Site</th>\n",
       "    </tr>\n",
       "  </thead>\n",
       "  <tbody>\n",
       "    <tr>\n",
       "      <th>0</th>\n",
       "      <td>3518</td>\n",
       "      <td>CREA</td>\n",
       "      <td>3</td>\n",
       "      <td>MON</td>\n",
       "      <td>4</td>\n",
       "      <td>8</td>\n",
       "      <td>14.0</td>\n",
       "      <td>13</td>\n",
       "      <td>60</td>\n",
       "      <td>1.0</td>\n",
       "      <td>1.0</td>\n",
       "      <td>1.0</td>\n",
       "      <td>1.0</td>\n",
       "      <td>2</td>\n",
       "      <td>9</td>\n",
       "      <td>9.0</td>\n",
       "      <td>1.0</td>\n",
       "    </tr>\n",
       "    <tr>\n",
       "      <th>1</th>\n",
       "      <td>10557</td>\n",
       "      <td>BELC</td>\n",
       "      <td>3</td>\n",
       "      <td>SAT</td>\n",
       "      <td>8</td>\n",
       "      <td>8</td>\n",
       "      <td>17.0</td>\n",
       "      <td>11</td>\n",
       "      <td>50</td>\n",
       "      <td>12.0</td>\n",
       "      <td>7.0</td>\n",
       "      <td>1.0</td>\n",
       "      <td>1.0</td>\n",
       "      <td>4</td>\n",
       "      <td>3</td>\n",
       "      <td>1.0</td>\n",
       "      <td>1.0</td>\n",
       "    </tr>\n",
       "    <tr>\n",
       "      <th>2</th>\n",
       "      <td>5002</td>\n",
       "      <td>LISB</td>\n",
       "      <td>3</td>\n",
       "      <td>WED</td>\n",
       "      <td>5</td>\n",
       "      <td>11</td>\n",
       "      <td>17.0</td>\n",
       "      <td>1</td>\n",
       "      <td>60</td>\n",
       "      <td>12.0</td>\n",
       "      <td>7.0</td>\n",
       "      <td>1.0</td>\n",
       "      <td>1.0</td>\n",
       "      <td>2</td>\n",
       "      <td>2</td>\n",
       "      <td>2.0</td>\n",
       "      <td>1.0</td>\n",
       "    </tr>\n",
       "    <tr>\n",
       "      <th>3</th>\n",
       "      <td>11714</td>\n",
       "      <td>BELC</td>\n",
       "      <td>3</td>\n",
       "      <td>SUN</td>\n",
       "      <td>18</td>\n",
       "      <td>10</td>\n",
       "      <td>16.0</td>\n",
       "      <td>12</td>\n",
       "      <td>70</td>\n",
       "      <td>6.0</td>\n",
       "      <td>NaN</td>\n",
       "      <td>1.0</td>\n",
       "      <td>1.0</td>\n",
       "      <td>1</td>\n",
       "      <td>3</td>\n",
       "      <td>1.0</td>\n",
       "      <td>1.0</td>\n",
       "    </tr>\n",
       "    <tr>\n",
       "      <th>4</th>\n",
       "      <td>12416</td>\n",
       "      <td>MIDU</td>\n",
       "      <td>3</td>\n",
       "      <td>MON</td>\n",
       "      <td>23</td>\n",
       "      <td>11</td>\n",
       "      <td>9.0</td>\n",
       "      <td>13</td>\n",
       "      <td>60</td>\n",
       "      <td>6.0</td>\n",
       "      <td>7.0</td>\n",
       "      <td>1.0</td>\n",
       "      <td>1.0</td>\n",
       "      <td>2</td>\n",
       "      <td>3</td>\n",
       "      <td>1.0</td>\n",
       "      <td>1.0</td>\n",
       "    </tr>\n",
       "  </tbody>\n",
       "</table>\n",
       "</div>"
      ],
      "text/plain": [
       "   Collision Reference No. Policing Area  Collision Severity  \\\n",
       "0                     3518          CREA                   3   \n",
       "1                    10557          BELC                   3   \n",
       "2                     5002          LISB                   3   \n",
       "3                    11714          BELC                   3   \n",
       "4                    12416          MIDU                   3   \n",
       "\n",
       "  Weekday of Collision  Day of Collision  Month of Collision  \\\n",
       "0                  MON                 4                   8   \n",
       "1                  SAT                 8                   8   \n",
       "2                  WED                 5                  11   \n",
       "3                  SUN                18                  10   \n",
       "4                  MON                23                  11   \n",
       "\n",
       "   Hour of Collision (24 hour)  Carriageway Type  Speed Limit  \\\n",
       "0                         14.0                13           60   \n",
       "1                         17.0                11           50   \n",
       "2                         17.0                 1           60   \n",
       "3                         16.0                12           70   \n",
       "4                          9.0                13           60   \n",
       "\n",
       "   Junction Detail  Junction Control  Pedestrian Crossing – Human Control  \\\n",
       "0              1.0               1.0                                  1.0   \n",
       "1             12.0               7.0                                  1.0   \n",
       "2             12.0               7.0                                  1.0   \n",
       "3              6.0               NaN                                  1.0   \n",
       "4              6.0               7.0                                  1.0   \n",
       "\n",
       "   Pedestrian Crossing – Physical Control  Light Conditions  \\\n",
       "0                                     1.0                 2   \n",
       "1                                     1.0                 4   \n",
       "2                                     1.0                 2   \n",
       "3                                     1.0                 1   \n",
       "4                                     1.0                 2   \n",
       "\n",
       "   Weather Conditions  Road Surface Conditions  Special Conditions at Site  \n",
       "0                   9                      9.0                         1.0  \n",
       "1                   3                      1.0                         1.0  \n",
       "2                   2                      2.0                         1.0  \n",
       "3                   3                      1.0                         1.0  \n",
       "4                   3                      1.0                         1.0  "
      ]
     },
     "execution_count": 20,
     "metadata": {},
     "output_type": "execute_result"
    }
   ],
   "source": [
    "train.head(5)"
   ]
  },
  {
   "cell_type": "code",
   "execution_count": 5,
   "metadata": {},
   "outputs": [
    {
     "data": {
      "text/plain": [
       "(10397, 17)"
      ]
     },
     "execution_count": 5,
     "metadata": {},
     "output_type": "execute_result"
    }
   ],
   "source": [
    "train.shape"
   ]
  },
  {
   "cell_type": "code",
   "execution_count": 6,
   "metadata": {},
   "outputs": [
    {
     "data": {
      "text/plain": [
       "(1833, 16)"
      ]
     },
     "execution_count": 6,
     "metadata": {},
     "output_type": "execute_result"
    }
   ],
   "source": [
    "test.shape"
   ]
  },
  {
   "cell_type": "code",
   "execution_count": 20,
   "metadata": {},
   "outputs": [
    {
     "data": {
      "text/plain": [
       "Collision_Reference_No.                       int64\n",
       "Policing_Area                                object\n",
       "Collision_Severity                            int64\n",
       "Weekday_of_Collision                         object\n",
       "Day_of_Collision                              int64\n",
       "Month_of_Collision                            int64\n",
       "Hour_of_Collision                           float64\n",
       "Carriageway_Type                              int64\n",
       "Speed_Limit                                   int64\n",
       "Junction_Detail                             float64\n",
       "Junction_Control                            float64\n",
       "Pedestrian_Crossing_____Human_Control       float64\n",
       "Pedestrian_Crossing_____Physical_Control    float64\n",
       "Light_Conditions                              int64\n",
       "Weather_Conditions                            int64\n",
       "Road_Surface_Conditions                     float64\n",
       "Special_Conditions_at_Site                  float64\n",
       "dtype: object"
      ]
     },
     "execution_count": 20,
     "metadata": {},
     "output_type": "execute_result"
    }
   ],
   "source": [
    "train.dtypes"
   ]
  },
  {
   "cell_type": "code",
   "execution_count": 16,
   "metadata": {},
   "outputs": [
    {
     "data": {
      "text/plain": [
       "Collision Reference No.                     int64\n",
       "Policing Area                              object\n",
       "Weekday of Collision                       object\n",
       "Day of Collision                            int64\n",
       "Month of Collision                          int64\n",
       "Hour of Collision (24 hour)               float64\n",
       "Carriageway Type                            int64\n",
       "Speed Limit                                 int64\n",
       "Junction Detail                           float64\n",
       "Junction Control                          float64\n",
       "Pedestrian Crossing – Human Control       float64\n",
       "Pedestrian Crossing – Physical Control    float64\n",
       "Light Conditions                            int64\n",
       "Weather Conditions                          int64\n",
       "Road Surface Conditions                   float64\n",
       "Special Conditions at Site                float64\n",
       "dtype: object"
      ]
     },
     "execution_count": 16,
     "metadata": {},
     "output_type": "execute_result"
    }
   ],
   "source": [
    "test.dtypes"
   ]
  },
  {
   "cell_type": "code",
   "execution_count": 22,
   "metadata": {
    "collapsed": true
   },
   "outputs": [],
   "source": [
    "train.columns = [c.replace(' ', '_') for c in train.columns]\n",
    "test.columns = [c.replace(' ', '_') for c in test.columns]"
   ]
  },
  {
   "cell_type": "code",
   "execution_count": null,
   "metadata": {
    "collapsed": true
   },
   "outputs": [],
   "source": [
    "train.columns"
   ]
  },
  {
   "cell_type": "code",
   "execution_count": 23,
   "metadata": {
    "collapsed": true
   },
   "outputs": [],
   "source": [
    "train=train.rename(index=str, columns={\"Hour_of_Collision_(24_hour)\":\"Hour_of_Collision\",\n",
    "                                   \"Pedestrian_Crossing_–_Human_Control\":\"Pedestrian_Crossing_Human_Control\",\n",
    "                                   \"Pedestrian_Crossing_–_Physical_Control\":\"Pedestrian_Crossing_Physical_Control\"})\n",
    "test=test.rename(index=str, columns={\"Hour_of_Collision_(24_hour)\":\"Hour_of_Collision\",\n",
    "                                   \"Pedestrian_Crossing_–_Human_Control\":\"Pedestrian_Crossing_Human_Control\",\n",
    "                                   \"Pedestrian_Crossing_–_Physical_Control\":\"Pedestrian_Crossing_Physical_Control\"})"
   ]
  },
  {
   "cell_type": "markdown",
   "metadata": {},
   "source": [
    "# Describing the data"
   ]
  },
  {
   "cell_type": "code",
   "execution_count": 103,
   "metadata": {},
   "outputs": [
    {
     "data": {
      "text/html": [
       "<div>\n",
       "<style>\n",
       "    .dataframe thead tr:only-child th {\n",
       "        text-align: right;\n",
       "    }\n",
       "\n",
       "    .dataframe thead th {\n",
       "        text-align: left;\n",
       "    }\n",
       "\n",
       "    .dataframe tbody tr th {\n",
       "        vertical-align: top;\n",
       "    }\n",
       "</style>\n",
       "<table border=\"1\" class=\"dataframe\">\n",
       "  <thead>\n",
       "    <tr style=\"text-align: right;\">\n",
       "      <th></th>\n",
       "      <th>Collision_Severity</th>\n",
       "      <th>Speed_Limit</th>\n",
       "      <th>Policing_Area_ANTR</th>\n",
       "      <th>Policing_Area_ARBC</th>\n",
       "      <th>Policing_Area_ARDS</th>\n",
       "      <th>Policing_Area_ARMA</th>\n",
       "      <th>Policing_Area_ARND</th>\n",
       "      <th>Policing_Area_BANB</th>\n",
       "      <th>Policing_Area_BELC</th>\n",
       "      <th>Policing_Area_BELE</th>\n",
       "      <th>...</th>\n",
       "      <th>Road_Surface_Conditions_4.0</th>\n",
       "      <th>Road_Surface_Conditions_5.0</th>\n",
       "      <th>Road_Surface_Conditions_6.0</th>\n",
       "      <th>Road_Surface_Conditions_7.0</th>\n",
       "      <th>Road_Surface_Conditions_9.0</th>\n",
       "      <th>Road_Surface_Conditions_10.0</th>\n",
       "      <th>Special_Conditions_at_Site_2.0</th>\n",
       "      <th>Special_Conditions_at_Site_4.0</th>\n",
       "      <th>Special_Conditions_at_Site_5.0</th>\n",
       "      <th>Special_Conditions_at_Site_6.0</th>\n",
       "    </tr>\n",
       "  </thead>\n",
       "  <tbody>\n",
       "    <tr>\n",
       "      <th>count</th>\n",
       "      <td>10397.000000</td>\n",
       "      <td>10397.000000</td>\n",
       "      <td>10397.000000</td>\n",
       "      <td>10397.000000</td>\n",
       "      <td>10397.000000</td>\n",
       "      <td>10397.000000</td>\n",
       "      <td>10397.000000</td>\n",
       "      <td>10397.000000</td>\n",
       "      <td>10397.000000</td>\n",
       "      <td>10397.000000</td>\n",
       "      <td>...</td>\n",
       "      <td>10397.000000</td>\n",
       "      <td>10397.000000</td>\n",
       "      <td>10397.000000</td>\n",
       "      <td>10397.000000</td>\n",
       "      <td>10397.000000</td>\n",
       "      <td>10397.000000</td>\n",
       "      <td>10397.000000</td>\n",
       "      <td>10397.000000</td>\n",
       "      <td>10397.000000</td>\n",
       "      <td>10397.000000</td>\n",
       "    </tr>\n",
       "    <tr>\n",
       "      <th>mean</th>\n",
       "      <td>2.881023</td>\n",
       "      <td>42.409349</td>\n",
       "      <td>0.015101</td>\n",
       "      <td>0.047129</td>\n",
       "      <td>0.018178</td>\n",
       "      <td>0.013754</td>\n",
       "      <td>0.034144</td>\n",
       "      <td>0.012023</td>\n",
       "      <td>0.156680</td>\n",
       "      <td>0.020871</td>\n",
       "      <td>...</td>\n",
       "      <td>0.015870</td>\n",
       "      <td>0.002885</td>\n",
       "      <td>0.010195</td>\n",
       "      <td>0.002597</td>\n",
       "      <td>0.009618</td>\n",
       "      <td>0.012023</td>\n",
       "      <td>0.003174</td>\n",
       "      <td>0.000769</td>\n",
       "      <td>0.008175</td>\n",
       "      <td>0.003366</td>\n",
       "    </tr>\n",
       "    <tr>\n",
       "      <th>std</th>\n",
       "      <td>0.358192</td>\n",
       "      <td>14.536066</td>\n",
       "      <td>0.121959</td>\n",
       "      <td>0.211925</td>\n",
       "      <td>0.133602</td>\n",
       "      <td>0.116474</td>\n",
       "      <td>0.181609</td>\n",
       "      <td>0.108992</td>\n",
       "      <td>0.363516</td>\n",
       "      <td>0.142961</td>\n",
       "      <td>...</td>\n",
       "      <td>0.124978</td>\n",
       "      <td>0.053641</td>\n",
       "      <td>0.100460</td>\n",
       "      <td>0.050896</td>\n",
       "      <td>0.097604</td>\n",
       "      <td>0.108992</td>\n",
       "      <td>0.056251</td>\n",
       "      <td>0.027730</td>\n",
       "      <td>0.090052</td>\n",
       "      <td>0.057925</td>\n",
       "    </tr>\n",
       "    <tr>\n",
       "      <th>min</th>\n",
       "      <td>1.000000</td>\n",
       "      <td>10.000000</td>\n",
       "      <td>0.000000</td>\n",
       "      <td>0.000000</td>\n",
       "      <td>0.000000</td>\n",
       "      <td>0.000000</td>\n",
       "      <td>0.000000</td>\n",
       "      <td>0.000000</td>\n",
       "      <td>0.000000</td>\n",
       "      <td>0.000000</td>\n",
       "      <td>...</td>\n",
       "      <td>0.000000</td>\n",
       "      <td>0.000000</td>\n",
       "      <td>0.000000</td>\n",
       "      <td>0.000000</td>\n",
       "      <td>0.000000</td>\n",
       "      <td>0.000000</td>\n",
       "      <td>0.000000</td>\n",
       "      <td>0.000000</td>\n",
       "      <td>0.000000</td>\n",
       "      <td>0.000000</td>\n",
       "    </tr>\n",
       "    <tr>\n",
       "      <th>25%</th>\n",
       "      <td>3.000000</td>\n",
       "      <td>30.000000</td>\n",
       "      <td>0.000000</td>\n",
       "      <td>0.000000</td>\n",
       "      <td>0.000000</td>\n",
       "      <td>0.000000</td>\n",
       "      <td>0.000000</td>\n",
       "      <td>0.000000</td>\n",
       "      <td>0.000000</td>\n",
       "      <td>0.000000</td>\n",
       "      <td>...</td>\n",
       "      <td>0.000000</td>\n",
       "      <td>0.000000</td>\n",
       "      <td>0.000000</td>\n",
       "      <td>0.000000</td>\n",
       "      <td>0.000000</td>\n",
       "      <td>0.000000</td>\n",
       "      <td>0.000000</td>\n",
       "      <td>0.000000</td>\n",
       "      <td>0.000000</td>\n",
       "      <td>0.000000</td>\n",
       "    </tr>\n",
       "    <tr>\n",
       "      <th>50%</th>\n",
       "      <td>3.000000</td>\n",
       "      <td>30.000000</td>\n",
       "      <td>0.000000</td>\n",
       "      <td>0.000000</td>\n",
       "      <td>0.000000</td>\n",
       "      <td>0.000000</td>\n",
       "      <td>0.000000</td>\n",
       "      <td>0.000000</td>\n",
       "      <td>0.000000</td>\n",
       "      <td>0.000000</td>\n",
       "      <td>...</td>\n",
       "      <td>0.000000</td>\n",
       "      <td>0.000000</td>\n",
       "      <td>0.000000</td>\n",
       "      <td>0.000000</td>\n",
       "      <td>0.000000</td>\n",
       "      <td>0.000000</td>\n",
       "      <td>0.000000</td>\n",
       "      <td>0.000000</td>\n",
       "      <td>0.000000</td>\n",
       "      <td>0.000000</td>\n",
       "    </tr>\n",
       "    <tr>\n",
       "      <th>75%</th>\n",
       "      <td>3.000000</td>\n",
       "      <td>60.000000</td>\n",
       "      <td>0.000000</td>\n",
       "      <td>0.000000</td>\n",
       "      <td>0.000000</td>\n",
       "      <td>0.000000</td>\n",
       "      <td>0.000000</td>\n",
       "      <td>0.000000</td>\n",
       "      <td>0.000000</td>\n",
       "      <td>0.000000</td>\n",
       "      <td>...</td>\n",
       "      <td>0.000000</td>\n",
       "      <td>0.000000</td>\n",
       "      <td>0.000000</td>\n",
       "      <td>0.000000</td>\n",
       "      <td>0.000000</td>\n",
       "      <td>0.000000</td>\n",
       "      <td>0.000000</td>\n",
       "      <td>0.000000</td>\n",
       "      <td>0.000000</td>\n",
       "      <td>0.000000</td>\n",
       "    </tr>\n",
       "    <tr>\n",
       "      <th>max</th>\n",
       "      <td>3.000000</td>\n",
       "      <td>70.000000</td>\n",
       "      <td>1.000000</td>\n",
       "      <td>1.000000</td>\n",
       "      <td>1.000000</td>\n",
       "      <td>1.000000</td>\n",
       "      <td>1.000000</td>\n",
       "      <td>1.000000</td>\n",
       "      <td>1.000000</td>\n",
       "      <td>1.000000</td>\n",
       "      <td>...</td>\n",
       "      <td>1.000000</td>\n",
       "      <td>1.000000</td>\n",
       "      <td>1.000000</td>\n",
       "      <td>1.000000</td>\n",
       "      <td>1.000000</td>\n",
       "      <td>1.000000</td>\n",
       "      <td>1.000000</td>\n",
       "      <td>1.000000</td>\n",
       "      <td>1.000000</td>\n",
       "      <td>1.000000</td>\n",
       "    </tr>\n",
       "  </tbody>\n",
       "</table>\n",
       "<p>8 rows × 159 columns</p>\n",
       "</div>"
      ],
      "text/plain": [
       "       Collision_Severity   Speed_Limit  Policing_Area_ANTR  \\\n",
       "count        10397.000000  10397.000000        10397.000000   \n",
       "mean             2.881023     42.409349            0.015101   \n",
       "std              0.358192     14.536066            0.121959   \n",
       "min              1.000000     10.000000            0.000000   \n",
       "25%              3.000000     30.000000            0.000000   \n",
       "50%              3.000000     30.000000            0.000000   \n",
       "75%              3.000000     60.000000            0.000000   \n",
       "max              3.000000     70.000000            1.000000   \n",
       "\n",
       "       Policing_Area_ARBC  Policing_Area_ARDS  Policing_Area_ARMA  \\\n",
       "count        10397.000000        10397.000000        10397.000000   \n",
       "mean             0.047129            0.018178            0.013754   \n",
       "std              0.211925            0.133602            0.116474   \n",
       "min              0.000000            0.000000            0.000000   \n",
       "25%              0.000000            0.000000            0.000000   \n",
       "50%              0.000000            0.000000            0.000000   \n",
       "75%              0.000000            0.000000            0.000000   \n",
       "max              1.000000            1.000000            1.000000   \n",
       "\n",
       "       Policing_Area_ARND  Policing_Area_BANB  Policing_Area_BELC  \\\n",
       "count        10397.000000        10397.000000        10397.000000   \n",
       "mean             0.034144            0.012023            0.156680   \n",
       "std              0.181609            0.108992            0.363516   \n",
       "min              0.000000            0.000000            0.000000   \n",
       "25%              0.000000            0.000000            0.000000   \n",
       "50%              0.000000            0.000000            0.000000   \n",
       "75%              0.000000            0.000000            0.000000   \n",
       "max              1.000000            1.000000            1.000000   \n",
       "\n",
       "       Policing_Area_BELE               ...                \\\n",
       "count        10397.000000               ...                 \n",
       "mean             0.020871               ...                 \n",
       "std              0.142961               ...                 \n",
       "min              0.000000               ...                 \n",
       "25%              0.000000               ...                 \n",
       "50%              0.000000               ...                 \n",
       "75%              0.000000               ...                 \n",
       "max              1.000000               ...                 \n",
       "\n",
       "       Road_Surface_Conditions_4.0  Road_Surface_Conditions_5.0  \\\n",
       "count                 10397.000000                 10397.000000   \n",
       "mean                      0.015870                     0.002885   \n",
       "std                       0.124978                     0.053641   \n",
       "min                       0.000000                     0.000000   \n",
       "25%                       0.000000                     0.000000   \n",
       "50%                       0.000000                     0.000000   \n",
       "75%                       0.000000                     0.000000   \n",
       "max                       1.000000                     1.000000   \n",
       "\n",
       "       Road_Surface_Conditions_6.0  Road_Surface_Conditions_7.0  \\\n",
       "count                 10397.000000                 10397.000000   \n",
       "mean                      0.010195                     0.002597   \n",
       "std                       0.100460                     0.050896   \n",
       "min                       0.000000                     0.000000   \n",
       "25%                       0.000000                     0.000000   \n",
       "50%                       0.000000                     0.000000   \n",
       "75%                       0.000000                     0.000000   \n",
       "max                       1.000000                     1.000000   \n",
       "\n",
       "       Road_Surface_Conditions_9.0  Road_Surface_Conditions_10.0  \\\n",
       "count                 10397.000000                  10397.000000   \n",
       "mean                      0.009618                      0.012023   \n",
       "std                       0.097604                      0.108992   \n",
       "min                       0.000000                      0.000000   \n",
       "25%                       0.000000                      0.000000   \n",
       "50%                       0.000000                      0.000000   \n",
       "75%                       0.000000                      0.000000   \n",
       "max                       1.000000                      1.000000   \n",
       "\n",
       "       Special_Conditions_at_Site_2.0  Special_Conditions_at_Site_4.0  \\\n",
       "count                    10397.000000                    10397.000000   \n",
       "mean                         0.003174                        0.000769   \n",
       "std                          0.056251                        0.027730   \n",
       "min                          0.000000                        0.000000   \n",
       "25%                          0.000000                        0.000000   \n",
       "50%                          0.000000                        0.000000   \n",
       "75%                          0.000000                        0.000000   \n",
       "max                          1.000000                        1.000000   \n",
       "\n",
       "       Special_Conditions_at_Site_5.0  Special_Conditions_at_Site_6.0  \n",
       "count                    10397.000000                    10397.000000  \n",
       "mean                         0.008175                        0.003366  \n",
       "std                          0.090052                        0.057925  \n",
       "min                          0.000000                        0.000000  \n",
       "25%                          0.000000                        0.000000  \n",
       "50%                          0.000000                        0.000000  \n",
       "75%                          0.000000                        0.000000  \n",
       "max                          1.000000                        1.000000  \n",
       "\n",
       "[8 rows x 159 columns]"
      ]
     },
     "execution_count": 103,
     "metadata": {},
     "output_type": "execute_result"
    }
   ],
   "source": [
    "train.describe()"
   ]
  },
  {
   "cell_type": "markdown",
   "metadata": {},
   "source": [
    "# Showing the imbalance in target variable through plot"
   ]
  },
  {
   "cell_type": "code",
   "execution_count": 59,
   "metadata": {},
   "outputs": [
    {
     "data": {
      "text/plain": [
       "<matplotlib.axes._subplots.AxesSubplot at 0x1cd7aebd828>"
      ]
     },
     "execution_count": 59,
     "metadata": {},
     "output_type": "execute_result"
    },
    {
     "data": {
      "image/png": "[encoded data removed]",
      "text/plain": [
       "<matplotlib.figure.Figure at 0x1cd79035438>"
      ]
     },
     "metadata": {},
     "output_type": "display_data"
    }
   ],
   "source": [
    "from pylab import rcParams\n",
    "import seaborn as sns\n",
    "%matplotlib inline\n",
    "\n",
    "sns.set(style='whitegrid', palette='muted', font_scale=1.5)\n",
    "\n",
    "rcParams['figure.figsize'] = 14, 8\n",
    "\n",
    "sns.countplot(x='Collision_Severity', data=train)\n"
   ]
  },
  {
   "cell_type": "code",
   "execution_count": 7,
   "metadata": {
    "collapsed": true
   },
   "outputs": [],
   "source": [
    "from sklearn.metrics import confusion_matrix\n",
    "from sklearn.metrics import classification_report\n",
    "target_names = ['1', '2', '3']"
   ]
  },
  {
   "cell_type": "markdown",
   "metadata": {},
   "source": [
    "# Dropping the ref no from train and test"
   ]
  },
  {
   "cell_type": "code",
   "execution_count": 24,
   "metadata": {
    "collapsed": true
   },
   "outputs": [],
   "source": [
    "train.drop('Collision_Reference_No.', axis=1, inplace=True)\n",
    "col_ref_no = test.pop('Collision_Reference_No.')"
   ]
  },
  {
   "cell_type": "markdown",
   "metadata": {},
   "source": [
    "# Missing values verification in train and test"
   ]
  },
  {
   "cell_type": "code",
   "execution_count": 39,
   "metadata": {
    "scrolled": true
   },
   "outputs": [
    {
     "data": {
      "text/plain": [
       "Policing_Area                           0\n",
       "Collision_Severity                      0\n",
       "Weekday_of_Collision                    0\n",
       "Day_of_Collision                        0\n",
       "Month_of_Collision                      0\n",
       "Hour_of_Collision                       0\n",
       "Carriageway_Type                        0\n",
       "Speed_Limit                             0\n",
       "Junction_Detail                         0\n",
       "Junction_Control                        0\n",
       "Pedestrian_Crossing_Human_Control       0\n",
       "Pedestrian_Crossing_Physical_Control    0\n",
       "Light_Conditions                        0\n",
       "Weather_Conditions                      0\n",
       "Road_Surface_Conditions                 0\n",
       "Special_Conditions_at_Site              0\n",
       "dtype: int64"
      ]
     },
     "execution_count": 39,
     "metadata": {},
     "output_type": "execute_result"
    }
   ],
   "source": [
    "train.isnull().sum()"
   ]
  },
  {
   "cell_type": "code",
   "execution_count": 82,
   "metadata": {
    "scrolled": false
   },
   "outputs": [
    {
     "data": {
      "text/plain": [
       "Policing_Area                           0\n",
       "Weekday_of_Collision                    0\n",
       "Day_of_Collision                        0\n",
       "Month_of_Collision                      0\n",
       "Hour_of_Collision                       0\n",
       "Carriageway_Type                        0\n",
       "Speed_Limit                             0\n",
       "Junction_Detail                         0\n",
       "Junction_Control                        0\n",
       "Pedestrian_Crossing_Human_Control       0\n",
       "Pedestrian_Crossing_Physical_Control    0\n",
       "Light_Conditions                        0\n",
       "Weather_Conditions                      0\n",
       "Road_Surface_Conditions                 0\n",
       "Special_Conditions_at_Site              0\n",
       "dtype: int64"
      ]
     },
     "execution_count": 82,
     "metadata": {},
     "output_type": "execute_result"
    }
   ],
   "source": [
    "test.isnull().sum()"
   ]
  },
  {
   "cell_type": "markdown",
   "metadata": {},
   "source": [
    "# Data type conversion from Numeric to Categorical for Train & Test"
   ]
  },
  {
   "cell_type": "markdown",
   "metadata": {},
   "source": [
    "train data"
   ]
  },
  {
   "cell_type": "code",
   "execution_count": 25,
   "metadata": {},
   "outputs": [],
   "source": [
    "for col in ['Policing_Area', \n",
    "       'Weekday_of_Collision', 'Day_of_Collision', 'Month_of_Collision',\n",
    "       'Hour_of_Collision', 'Carriageway_Type', \n",
    "       'Junction_Detail', 'Junction_Control',\n",
    "       'Pedestrian_Crossing_Human_Control',\n",
    "       'Pedestrian_Crossing_Physical_Control', 'Light_Conditions',\n",
    "       'Weather_Conditions', 'Road_Surface_Conditions',\n",
    "       'Special_Conditions_at_Site']:\n",
    "    train[col] = train[col].astype('category')\n"
   ]
  },
  {
   "cell_type": "markdown",
   "metadata": {},
   "source": [
    "test data"
   ]
  },
  {
   "cell_type": "code",
   "execution_count": 26,
   "metadata": {
    "collapsed": true
   },
   "outputs": [],
   "source": [
    "for col in [ 'Policing_Area', \n",
    "       'Weekday_of_Collision', 'Day_of_Collision', 'Month_of_Collision',\n",
    "       'Hour_of_Collision', 'Carriageway_Type', \n",
    "       'Junction_Detail', 'Junction_Control',\n",
    "       'Pedestrian_Crossing_Human_Control',\n",
    "       'Pedestrian_Crossing_Physical_Control', 'Light_Conditions',\n",
    "       'Weather_Conditions', 'Road_Surface_Conditions',\n",
    "       'Special_Conditions_at_Site']:\n",
    "    test[col] = test[col].astype('category')    "
   ]
  },
  {
   "cell_type": "markdown",
   "metadata": {},
   "source": [
    "# Imputation of missing values in train and test"
   ]
  },
  {
   "cell_type": "code",
   "execution_count": 27,
   "metadata": {
    "collapsed": true
   },
   "outputs": [],
   "source": [
    "#train.fillna(train.mode()[0], inplace=True)\n",
    "#test.fillna(test.mode(), inplace=True)\n",
    "for col in ['Policing_Area', \n",
    "       'Weekday_of_Collision', 'Day_of_Collision', 'Month_of_Collision',\n",
    "       'Hour_of_Collision', 'Carriageway_Type', \n",
    "       'Junction_Detail', 'Junction_Control',\n",
    "       'Pedestrian_Crossing_Human_Control',\n",
    "       'Pedestrian_Crossing_Physical_Control', 'Light_Conditions',\n",
    "       'Weather_Conditions', 'Road_Surface_Conditions',\n",
    "       'Special_Conditions_at_Site']:\n",
    "    train[col].fillna(train[col].mode()[0], inplace=True)"
   ]
  },
  {
   "cell_type": "code",
   "execution_count": 28,
   "metadata": {
    "collapsed": true
   },
   "outputs": [],
   "source": [
    "for col in ['Policing_Area', \n",
    "       'Weekday_of_Collision', 'Day_of_Collision', 'Month_of_Collision',\n",
    "       'Hour_of_Collision', 'Carriageway_Type', \n",
    "       'Junction_Detail', 'Junction_Control',\n",
    "       'Pedestrian_Crossing_Human_Control',\n",
    "       'Pedestrian_Crossing_Physical_Control', 'Light_Conditions',\n",
    "       'Weather_Conditions', 'Road_Surface_Conditions',\n",
    "       'Special_Conditions_at_Site']:\n",
    "    test[col].fillna(test[col].mode()[0], inplace=True)"
   ]
  },
  {
   "cell_type": "markdown",
   "metadata": {},
   "source": [
    "verifying whether the data type is converted or not"
   ]
  },
  {
   "cell_type": "code",
   "execution_count": 43,
   "metadata": {
    "scrolled": true
   },
   "outputs": [
    {
     "data": {
      "text/plain": [
       "Policing_Area                           category\n",
       "Collision_Severity                         int64\n",
       "Weekday_of_Collision                    category\n",
       "Day_of_Collision                        category\n",
       "Month_of_Collision                      category\n",
       "Hour_of_Collision                       category\n",
       "Carriageway_Type                        category\n",
       "Speed_Limit                                int64\n",
       "Junction_Detail                         category\n",
       "Junction_Control                        category\n",
       "Pedestrian_Crossing_Human_Control       category\n",
       "Pedestrian_Crossing_Physical_Control    category\n",
       "Light_Conditions                        category\n",
       "Weather_Conditions                      category\n",
       "Road_Surface_Conditions                 category\n",
       "Special_Conditions_at_Site              category\n",
       "dtype: object"
      ]
     },
     "execution_count": 43,
     "metadata": {},
     "output_type": "execute_result"
    }
   ],
   "source": [
    "train.dtypes"
   ]
  },
  {
   "cell_type": "code",
   "execution_count": 80,
   "metadata": {
    "scrolled": true
   },
   "outputs": [
    {
     "data": {
      "text/plain": [
       "Policing_Area                           category\n",
       "Weekday_of_Collision                    category\n",
       "Day_of_Collision                        category\n",
       "Month_of_Collision                      category\n",
       "Hour_of_Collision                       category\n",
       "Carriageway_Type                        category\n",
       "Speed_Limit                                int64\n",
       "Junction_Detail                         category\n",
       "Junction_Control                        category\n",
       "Pedestrian_Crossing_Human_Control       category\n",
       "Pedestrian_Crossing_Physical_Control    category\n",
       "Light_Conditions                        category\n",
       "Weather_Conditions                      category\n",
       "Road_Surface_Conditions                 category\n",
       "Special_Conditions_at_Site              category\n",
       "dtype: object"
      ]
     },
     "execution_count": 80,
     "metadata": {},
     "output_type": "execute_result"
    }
   ],
   "source": [
    "test.dtypes"
   ]
  },
  {
   "cell_type": "markdown",
   "metadata": {},
   "source": [
    "# Dummification of the categorical variables for train & Test"
   ]
  },
  {
   "cell_type": "markdown",
   "metadata": {},
   "source": [
    "train data"
   ]
  },
  {
   "cell_type": "code",
   "execution_count": 29,
   "metadata": {
    "collapsed": true
   },
   "outputs": [],
   "source": [
    "categorical_Attributes = train.select_dtypes(include=['category']).columns"
   ]
  },
  {
   "cell_type": "code",
   "execution_count": 30,
   "metadata": {
    "collapsed": true
   },
   "outputs": [],
   "source": [
    "train = pd.get_dummies(columns=categorical_Attributes, data=train, prefix=categorical_Attributes, prefix_sep=\"_\",drop_first=True)"
   ]
  },
  {
   "cell_type": "markdown",
   "metadata": {},
   "source": [
    "test data"
   ]
  },
  {
   "cell_type": "code",
   "execution_count": 31,
   "metadata": {
    "collapsed": true
   },
   "outputs": [],
   "source": [
    "categorical_Attributes = test.select_dtypes(include=['category']).columns"
   ]
  },
  {
   "cell_type": "code",
   "execution_count": 32,
   "metadata": {
    "collapsed": true
   },
   "outputs": [],
   "source": [
    "test = pd.get_dummies(columns=categorical_Attributes, data=test, prefix=categorical_Attributes, prefix_sep=\"_\",drop_first=True)"
   ]
  },
  {
   "cell_type": "markdown",
   "metadata": {},
   "source": [
    "since this level is not present in the test data, it is good to drop it"
   ]
  },
  {
   "cell_type": "code",
   "execution_count": 33,
   "metadata": {
    "collapsed": true
   },
   "outputs": [],
   "source": [
    "train.drop('Weather_Conditions_8', axis=1, inplace=True)\n",
    "train.drop('Road_Surface_Conditions_8.0', axis=1, inplace=True)\n"
   ]
  },
  {
   "cell_type": "markdown",
   "metadata": {},
   "source": [
    "# Train & Test Data split with class level handling"
   ]
  },
  {
   "cell_type": "markdown",
   "metadata": {},
   "source": [
    "* using stratify parameter"
   ]
  },
  {
   "cell_type": "code",
   "execution_count": 34,
   "metadata": {
    "collapsed": true
   },
   "outputs": [],
   "source": [
    "from sklearn.model_selection import train_test_split\n",
    "X, y = train.loc[:,train.columns!='Collision_Severity'].values, train.loc[:,'Collision_Severity'].values\n",
    "\n",
    "X_train, X_test, y_train, y_test = train_test_split(X, y, test_size=0.3, random_state=123, stratify = train['Collision_Severity'])"
   ]
  },
  {
   "cell_type": "markdown",
   "metadata": {},
   "source": [
    "# Using SMOTE to do oversampling to bring equal proportion for the target label"
   ]
  },
  {
   "cell_type": "code",
   "execution_count": 35,
   "metadata": {
    "collapsed": true
   },
   "outputs": [],
   "source": [
    "from imblearn.over_sampling import SMOTE\n",
    "sm = SMOTE(random_state=123, ratio = \"auto\", k_neighbors = 5, m_neighbors = 7, n_jobs = 6)\n",
    "X_train, y_train = sm.fit_sample(X_train, y_train)\n"
   ]
  },
  {
   "cell_type": "markdown",
   "metadata": {},
   "source": [
    "# equal propotion of target vairables after smote"
   ]
  },
  {
   "cell_type": "code",
   "execution_count": 60,
   "metadata": {
    "scrolled": true
   },
   "outputs": [
    {
     "data": {
      "text/plain": [
       "<matplotlib.axes._subplots.AxesSubplot at 0x1cd0027b780>"
      ]
     },
     "execution_count": 60,
     "metadata": {},
     "output_type": "execute_result"
    },
    {
     "data": {
      "image/png": "[encoded data removed]",
      "text/plain": [
       "<matplotlib.figure.Figure at 0x1cd7b07b2b0>"
      ]
     },
     "metadata": {},
     "output_type": "display_data"
    }
   ],
   "source": [
    "sns.countplot(y_train)"
   ]
  },
  {
   "cell_type": "markdown",
   "metadata": {},
   "source": [
    "dummified data of train and test"
   ]
  },
  {
   "cell_type": "code",
   "execution_count": 85,
   "metadata": {},
   "outputs": [
    {
     "data": {
      "text/html": [
       "<div>\n",
       "<style>\n",
       "    .dataframe thead tr:only-child th {\n",
       "        text-align: right;\n",
       "    }\n",
       "\n",
       "    .dataframe thead th {\n",
       "        text-align: left;\n",
       "    }\n",
       "\n",
       "    .dataframe tbody tr th {\n",
       "        vertical-align: top;\n",
       "    }\n",
       "</style>\n",
       "<table border=\"1\" class=\"dataframe\">\n",
       "  <thead>\n",
       "    <tr style=\"text-align: right;\">\n",
       "      <th></th>\n",
       "      <th>Speed_Limit</th>\n",
       "      <th>Policing_Area_ANTR</th>\n",
       "      <th>Policing_Area_ARBC</th>\n",
       "      <th>Policing_Area_ARDS</th>\n",
       "      <th>Policing_Area_ARMA</th>\n",
       "      <th>Policing_Area_ARND</th>\n",
       "      <th>Policing_Area_BANB</th>\n",
       "      <th>Policing_Area_BELC</th>\n",
       "      <th>Policing_Area_BELE</th>\n",
       "      <th>Policing_Area_BELN</th>\n",
       "      <th>...</th>\n",
       "      <th>Road_Surface_Conditions_4.0</th>\n",
       "      <th>Road_Surface_Conditions_5.0</th>\n",
       "      <th>Road_Surface_Conditions_6.0</th>\n",
       "      <th>Road_Surface_Conditions_7.0</th>\n",
       "      <th>Road_Surface_Conditions_9.0</th>\n",
       "      <th>Road_Surface_Conditions_10.0</th>\n",
       "      <th>Special_Conditions_at_Site_2.0</th>\n",
       "      <th>Special_Conditions_at_Site_4.0</th>\n",
       "      <th>Special_Conditions_at_Site_5.0</th>\n",
       "      <th>Special_Conditions_at_Site_6.0</th>\n",
       "    </tr>\n",
       "  </thead>\n",
       "  <tbody>\n",
       "    <tr>\n",
       "      <th>0</th>\n",
       "      <td>30</td>\n",
       "      <td>0</td>\n",
       "      <td>0</td>\n",
       "      <td>0</td>\n",
       "      <td>0</td>\n",
       "      <td>0</td>\n",
       "      <td>0</td>\n",
       "      <td>0</td>\n",
       "      <td>0</td>\n",
       "      <td>0</td>\n",
       "      <td>...</td>\n",
       "      <td>0</td>\n",
       "      <td>0</td>\n",
       "      <td>0</td>\n",
       "      <td>0</td>\n",
       "      <td>0</td>\n",
       "      <td>0</td>\n",
       "      <td>0</td>\n",
       "      <td>0</td>\n",
       "      <td>0</td>\n",
       "      <td>0</td>\n",
       "    </tr>\n",
       "    <tr>\n",
       "      <th>1</th>\n",
       "      <td>70</td>\n",
       "      <td>0</td>\n",
       "      <td>0</td>\n",
       "      <td>0</td>\n",
       "      <td>0</td>\n",
       "      <td>0</td>\n",
       "      <td>0</td>\n",
       "      <td>0</td>\n",
       "      <td>0</td>\n",
       "      <td>0</td>\n",
       "      <td>...</td>\n",
       "      <td>0</td>\n",
       "      <td>0</td>\n",
       "      <td>0</td>\n",
       "      <td>0</td>\n",
       "      <td>0</td>\n",
       "      <td>0</td>\n",
       "      <td>0</td>\n",
       "      <td>0</td>\n",
       "      <td>0</td>\n",
       "      <td>0</td>\n",
       "    </tr>\n",
       "    <tr>\n",
       "      <th>2</th>\n",
       "      <td>30</td>\n",
       "      <td>0</td>\n",
       "      <td>0</td>\n",
       "      <td>0</td>\n",
       "      <td>0</td>\n",
       "      <td>0</td>\n",
       "      <td>0</td>\n",
       "      <td>0</td>\n",
       "      <td>0</td>\n",
       "      <td>0</td>\n",
       "      <td>...</td>\n",
       "      <td>0</td>\n",
       "      <td>0</td>\n",
       "      <td>0</td>\n",
       "      <td>0</td>\n",
       "      <td>0</td>\n",
       "      <td>0</td>\n",
       "      <td>0</td>\n",
       "      <td>0</td>\n",
       "      <td>0</td>\n",
       "      <td>0</td>\n",
       "    </tr>\n",
       "    <tr>\n",
       "      <th>3</th>\n",
       "      <td>30</td>\n",
       "      <td>0</td>\n",
       "      <td>0</td>\n",
       "      <td>0</td>\n",
       "      <td>0</td>\n",
       "      <td>0</td>\n",
       "      <td>0</td>\n",
       "      <td>1</td>\n",
       "      <td>0</td>\n",
       "      <td>0</td>\n",
       "      <td>...</td>\n",
       "      <td>0</td>\n",
       "      <td>0</td>\n",
       "      <td>0</td>\n",
       "      <td>0</td>\n",
       "      <td>0</td>\n",
       "      <td>0</td>\n",
       "      <td>0</td>\n",
       "      <td>0</td>\n",
       "      <td>0</td>\n",
       "      <td>0</td>\n",
       "    </tr>\n",
       "    <tr>\n",
       "      <th>4</th>\n",
       "      <td>40</td>\n",
       "      <td>0</td>\n",
       "      <td>0</td>\n",
       "      <td>0</td>\n",
       "      <td>0</td>\n",
       "      <td>0</td>\n",
       "      <td>0</td>\n",
       "      <td>0</td>\n",
       "      <td>0</td>\n",
       "      <td>0</td>\n",
       "      <td>...</td>\n",
       "      <td>0</td>\n",
       "      <td>0</td>\n",
       "      <td>0</td>\n",
       "      <td>0</td>\n",
       "      <td>0</td>\n",
       "      <td>0</td>\n",
       "      <td>0</td>\n",
       "      <td>0</td>\n",
       "      <td>0</td>\n",
       "      <td>0</td>\n",
       "    </tr>\n",
       "  </tbody>\n",
       "</table>\n",
       "<p>5 rows × 158 columns</p>\n",
       "</div>"
      ],
      "text/plain": [
       "   Speed_Limit  Policing_Area_ANTR  Policing_Area_ARBC  Policing_Area_ARDS  \\\n",
       "0           30                   0                   0                   0   \n",
       "1           70                   0                   0                   0   \n",
       "2           30                   0                   0                   0   \n",
       "3           30                   0                   0                   0   \n",
       "4           40                   0                   0                   0   \n",
       "\n",
       "   Policing_Area_ARMA  Policing_Area_ARND  Policing_Area_BANB  \\\n",
       "0                   0                   0                   0   \n",
       "1                   0                   0                   0   \n",
       "2                   0                   0                   0   \n",
       "3                   0                   0                   0   \n",
       "4                   0                   0                   0   \n",
       "\n",
       "   Policing_Area_BELC  Policing_Area_BELE  Policing_Area_BELN  \\\n",
       "0                   0                   0                   0   \n",
       "1                   0                   0                   0   \n",
       "2                   0                   0                   0   \n",
       "3                   1                   0                   0   \n",
       "4                   0                   0                   0   \n",
       "\n",
       "                ...                Road_Surface_Conditions_4.0  \\\n",
       "0               ...                                          0   \n",
       "1               ...                                          0   \n",
       "2               ...                                          0   \n",
       "3               ...                                          0   \n",
       "4               ...                                          0   \n",
       "\n",
       "   Road_Surface_Conditions_5.0  Road_Surface_Conditions_6.0  \\\n",
       "0                            0                            0   \n",
       "1                            0                            0   \n",
       "2                            0                            0   \n",
       "3                            0                            0   \n",
       "4                            0                            0   \n",
       "\n",
       "   Road_Surface_Conditions_7.0  Road_Surface_Conditions_9.0  \\\n",
       "0                            0                            0   \n",
       "1                            0                            0   \n",
       "2                            0                            0   \n",
       "3                            0                            0   \n",
       "4                            0                            0   \n",
       "\n",
       "   Road_Surface_Conditions_10.0  Special_Conditions_at_Site_2.0  \\\n",
       "0                             0                               0   \n",
       "1                             0                               0   \n",
       "2                             0                               0   \n",
       "3                             0                               0   \n",
       "4                             0                               0   \n",
       "\n",
       "   Special_Conditions_at_Site_4.0  Special_Conditions_at_Site_5.0  \\\n",
       "0                               0                               0   \n",
       "1                               0                               0   \n",
       "2                               0                               0   \n",
       "3                               0                               0   \n",
       "4                               0                               0   \n",
       "\n",
       "   Special_Conditions_at_Site_6.0  \n",
       "0                               0  \n",
       "1                               0  \n",
       "2                               0  \n",
       "3                               0  \n",
       "4                               0  \n",
       "\n",
       "[5 rows x 158 columns]"
      ]
     },
     "execution_count": 85,
     "metadata": {},
     "output_type": "execute_result"
    }
   ],
   "source": [
    "test.head()"
   ]
  },
  {
   "cell_type": "code",
   "execution_count": 73,
   "metadata": {},
   "outputs": [
    {
     "data": {
      "text/html": [
       "<div>\n",
       "<style>\n",
       "    .dataframe thead tr:only-child th {\n",
       "        text-align: right;\n",
       "    }\n",
       "\n",
       "    .dataframe thead th {\n",
       "        text-align: left;\n",
       "    }\n",
       "\n",
       "    .dataframe tbody tr th {\n",
       "        vertical-align: top;\n",
       "    }\n",
       "</style>\n",
       "<table border=\"1\" class=\"dataframe\">\n",
       "  <thead>\n",
       "    <tr style=\"text-align: right;\">\n",
       "      <th></th>\n",
       "      <th>Collision_Severity</th>\n",
       "      <th>Speed_Limit</th>\n",
       "      <th>Policing_Area_ANTR</th>\n",
       "      <th>Policing_Area_ARBC</th>\n",
       "      <th>Policing_Area_ARDS</th>\n",
       "      <th>Policing_Area_ARMA</th>\n",
       "      <th>Policing_Area_ARND</th>\n",
       "      <th>Policing_Area_BANB</th>\n",
       "      <th>Policing_Area_BELC</th>\n",
       "      <th>Policing_Area_BELE</th>\n",
       "      <th>...</th>\n",
       "      <th>Road_Surface_Conditions_4.0</th>\n",
       "      <th>Road_Surface_Conditions_5.0</th>\n",
       "      <th>Road_Surface_Conditions_6.0</th>\n",
       "      <th>Road_Surface_Conditions_7.0</th>\n",
       "      <th>Road_Surface_Conditions_9.0</th>\n",
       "      <th>Road_Surface_Conditions_10.0</th>\n",
       "      <th>Special_Conditions_at_Site_2.0</th>\n",
       "      <th>Special_Conditions_at_Site_4.0</th>\n",
       "      <th>Special_Conditions_at_Site_5.0</th>\n",
       "      <th>Special_Conditions_at_Site_6.0</th>\n",
       "    </tr>\n",
       "  </thead>\n",
       "  <tbody>\n",
       "    <tr>\n",
       "      <th>0</th>\n",
       "      <td>3</td>\n",
       "      <td>60</td>\n",
       "      <td>0</td>\n",
       "      <td>0</td>\n",
       "      <td>0</td>\n",
       "      <td>0</td>\n",
       "      <td>0</td>\n",
       "      <td>0</td>\n",
       "      <td>0</td>\n",
       "      <td>0</td>\n",
       "      <td>...</td>\n",
       "      <td>0</td>\n",
       "      <td>0</td>\n",
       "      <td>0</td>\n",
       "      <td>0</td>\n",
       "      <td>1</td>\n",
       "      <td>0</td>\n",
       "      <td>0</td>\n",
       "      <td>0</td>\n",
       "      <td>0</td>\n",
       "      <td>0</td>\n",
       "    </tr>\n",
       "    <tr>\n",
       "      <th>1</th>\n",
       "      <td>3</td>\n",
       "      <td>50</td>\n",
       "      <td>0</td>\n",
       "      <td>0</td>\n",
       "      <td>0</td>\n",
       "      <td>0</td>\n",
       "      <td>0</td>\n",
       "      <td>0</td>\n",
       "      <td>1</td>\n",
       "      <td>0</td>\n",
       "      <td>...</td>\n",
       "      <td>0</td>\n",
       "      <td>0</td>\n",
       "      <td>0</td>\n",
       "      <td>0</td>\n",
       "      <td>0</td>\n",
       "      <td>0</td>\n",
       "      <td>0</td>\n",
       "      <td>0</td>\n",
       "      <td>0</td>\n",
       "      <td>0</td>\n",
       "    </tr>\n",
       "    <tr>\n",
       "      <th>2</th>\n",
       "      <td>3</td>\n",
       "      <td>60</td>\n",
       "      <td>0</td>\n",
       "      <td>0</td>\n",
       "      <td>0</td>\n",
       "      <td>0</td>\n",
       "      <td>0</td>\n",
       "      <td>0</td>\n",
       "      <td>0</td>\n",
       "      <td>0</td>\n",
       "      <td>...</td>\n",
       "      <td>0</td>\n",
       "      <td>0</td>\n",
       "      <td>0</td>\n",
       "      <td>0</td>\n",
       "      <td>0</td>\n",
       "      <td>0</td>\n",
       "      <td>0</td>\n",
       "      <td>0</td>\n",
       "      <td>0</td>\n",
       "      <td>0</td>\n",
       "    </tr>\n",
       "  </tbody>\n",
       "</table>\n",
       "<p>3 rows × 159 columns</p>\n",
       "</div>"
      ],
      "text/plain": [
       "   Collision_Severity  Speed_Limit  Policing_Area_ANTR  Policing_Area_ARBC  \\\n",
       "0                   3           60                   0                   0   \n",
       "1                   3           50                   0                   0   \n",
       "2                   3           60                   0                   0   \n",
       "\n",
       "   Policing_Area_ARDS  Policing_Area_ARMA  Policing_Area_ARND  \\\n",
       "0                   0                   0                   0   \n",
       "1                   0                   0                   0   \n",
       "2                   0                   0                   0   \n",
       "\n",
       "   Policing_Area_BANB  Policing_Area_BELC  Policing_Area_BELE  \\\n",
       "0                   0                   0                   0   \n",
       "1                   0                   1                   0   \n",
       "2                   0                   0                   0   \n",
       "\n",
       "                ...                Road_Surface_Conditions_4.0  \\\n",
       "0               ...                                          0   \n",
       "1               ...                                          0   \n",
       "2               ...                                          0   \n",
       "\n",
       "   Road_Surface_Conditions_5.0  Road_Surface_Conditions_6.0  \\\n",
       "0                            0                            0   \n",
       "1                            0                            0   \n",
       "2                            0                            0   \n",
       "\n",
       "   Road_Surface_Conditions_7.0  Road_Surface_Conditions_9.0  \\\n",
       "0                            0                            1   \n",
       "1                            0                            0   \n",
       "2                            0                            0   \n",
       "\n",
       "   Road_Surface_Conditions_10.0  Special_Conditions_at_Site_2.0  \\\n",
       "0                             0                               0   \n",
       "1                             0                               0   \n",
       "2                             0                               0   \n",
       "\n",
       "   Special_Conditions_at_Site_4.0  Special_Conditions_at_Site_5.0  \\\n",
       "0                               0                               0   \n",
       "1                               0                               0   \n",
       "2                               0                               0   \n",
       "\n",
       "   Special_Conditions_at_Site_6.0  \n",
       "0                               0  \n",
       "1                               0  \n",
       "2                               0  \n",
       "\n",
       "[3 rows x 159 columns]"
      ]
     },
     "execution_count": 73,
     "metadata": {},
     "output_type": "execute_result"
    }
   ],
   "source": [
    "train.head(3)"
   ]
  },
  {
   "cell_type": "markdown",
   "metadata": {},
   "source": [
    "cross validating the shapes of train and text matrix:"
   ]
  },
  {
   "cell_type": "code",
   "execution_count": 122,
   "metadata": {},
   "outputs": [
    {
     "data": {
      "text/plain": [
       "(3120, 158)"
      ]
     },
     "execution_count": 122,
     "metadata": {},
     "output_type": "execute_result"
    }
   ],
   "source": [
    "X_train.shape"
   ]
  },
  {
   "cell_type": "code",
   "execution_count": 123,
   "metadata": {
    "scrolled": true
   },
   "outputs": [
    {
     "data": {
      "text/plain": [
       "(1833, 158)"
      ]
     },
     "execution_count": 123,
     "metadata": {},
     "output_type": "execute_result"
    }
   ],
   "source": [
    "test.shape"
   ]
  },
  {
   "cell_type": "markdown",
   "metadata": {},
   "source": [
    "# Gradient Boosting Model Classifier Experimentation"
   ]
  },
  {
   "cell_type": "code",
   "execution_count": 36,
   "metadata": {
    "collapsed": true
   },
   "outputs": [],
   "source": [
    "from sklearn.ensemble import GradientBoostingClassifier"
   ]
  },
  {
   "cell_type": "code",
   "execution_count": 40,
   "metadata": {
    "collapsed": true
   },
   "outputs": [],
   "source": [
    "clf=GradientBoostingClassifier(n_estimators=200,learning_rate=0.1)\n",
    "\n",
    "fit=clf.fit(X_train,y_train)\n",
    "pred_train=fit.predict(X_train)\n",
    "pred=fit.predict(X_test)"
   ]
  },
  {
   "cell_type": "code",
   "execution_count": 41,
   "metadata": {},
   "outputs": [
    {
     "name": "stdout",
     "output_type": "stream",
     "text": [
      "             precision    recall  f1-score   support\n",
      "\n",
      "          1       0.99      0.99      0.99      6497\n",
      "          2       0.96      0.94      0.95      6497\n",
      "          3       0.94      0.96      0.95      6497\n",
      "\n",
      "avg / total       0.96      0.96      0.96     19491\n",
      "\n",
      "[[6449    5   43]\n",
      " [  56 6104  337]\n",
      " [  20  232 6245]]\n"
     ]
    }
   ],
   "source": [
    "print(classification_report(y_train,pred_train,target_names=target_names))\n",
    "print(confusion_matrix(y_train, pred_train))"
   ]
  },
  {
   "cell_type": "code",
   "execution_count": 39,
   "metadata": {},
   "outputs": [
    {
     "name": "stdout",
     "output_type": "stream",
     "text": [
      "             precision    recall  f1-score   support\n",
      "\n",
      "          1       0.19      0.11      0.14        37\n",
      "          2       0.37      0.32      0.34       298\n",
      "          3       0.93      0.94      0.93      2785\n",
      "\n",
      "avg / total       0.86      0.87      0.87      3120\n",
      "\n",
      "[[   4   14   19]\n",
      " [   9   95  194]\n",
      " [   8  149 2628]]\n"
     ]
    }
   ],
   "source": [
    "print(classification_report(y_test,pred,target_names=target_names))\n",
    "print(confusion_matrix(y_test, pred))"
   ]
  },
  {
   "cell_type": "code",
   "execution_count": 86,
   "metadata": {
    "collapsed": true
   },
   "outputs": [],
   "source": [
    "pred_test=fit.predict(test)"
   ]
  },
  {
   "cell_type": "code",
   "execution_count": 98,
   "metadata": {
    "collapsed": true
   },
   "outputs": [],
   "source": [
    "pred_test_datFm = pd.DataFrame({'Collision Reference No.':col_ref_no,'Collision Severity':pred_test})"
   ]
  },
  {
   "cell_type": "code",
   "execution_count": 101,
   "metadata": {},
   "outputs": [
    {
     "data": {
      "text/html": [
       "<div>\n",
       "<style>\n",
       "    .dataframe thead tr:only-child th {\n",
       "        text-align: right;\n",
       "    }\n",
       "\n",
       "    .dataframe thead th {\n",
       "        text-align: left;\n",
       "    }\n",
       "\n",
       "    .dataframe tbody tr th {\n",
       "        vertical-align: top;\n",
       "    }\n",
       "</style>\n",
       "<table border=\"1\" class=\"dataframe\">\n",
       "  <thead>\n",
       "    <tr style=\"text-align: right;\">\n",
       "      <th></th>\n",
       "      <th>Collision Reference No.</th>\n",
       "      <th>Collision Severity</th>\n",
       "    </tr>\n",
       "  </thead>\n",
       "  <tbody>\n",
       "    <tr>\n",
       "      <th>0</th>\n",
       "      <td>2</td>\n",
       "      <td>3</td>\n",
       "    </tr>\n",
       "    <tr>\n",
       "      <th>1</th>\n",
       "      <td>18</td>\n",
       "      <td>3</td>\n",
       "    </tr>\n",
       "    <tr>\n",
       "      <th>2</th>\n",
       "      <td>20</td>\n",
       "      <td>3</td>\n",
       "    </tr>\n",
       "  </tbody>\n",
       "</table>\n",
       "</div>"
      ],
      "text/plain": [
       "   Collision Reference No.  Collision Severity\n",
       "0                        2                   3\n",
       "1                       18                   3\n",
       "2                       20                   3"
      ]
     },
     "execution_count": 101,
     "metadata": {},
     "output_type": "execute_result"
    }
   ],
   "source": [
    "pred_test_datFm.head(3)"
   ]
  },
  {
   "cell_type": "code",
   "execution_count": 87,
   "metadata": {
    "collapsed": true
   },
   "outputs": [],
   "source": [
    "\n",
    "np.savetxt(\"submissions_gbm.csv\", pred_test_datFm, delimiter=\",\")\n"
   ]
  }
 ],
 "metadata": {
  "kernelspec": {
   "display_name": "Python 3",
   "language": "python",
   "name": "python3"
  },
  "language_info": {
   "codemirror_mode": {
    "name": "ipython",
    "version": 3
   },
   "file_extension": ".py",
   "mimetype": "text/x-python",
   "name": "python",
   "nbconvert_exporter": "python",
   "pygments_lexer": "ipython3",
   "version": "3.6.2"
  }
 },
 "nbformat": 4,
 "nbformat_minor": 2
}
